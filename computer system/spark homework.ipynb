{
 "cells": [
  {
   "cell_type": "code",
   "execution_count": 6,
   "metadata": {
    "collapsed": false
   },
   "outputs": [
    {
     "data": {
      "text/plain": [
       "<pyspark.context.SparkContext at 0xb20d7cac>"
      ]
     },
     "execution_count": 6,
     "metadata": {},
     "output_type": "execute_result"
    }
   ],
   "source": [
    "sc"
   ]
  },
  {
   "cell_type": "code",
   "execution_count": 1,
   "metadata": {
    "collapsed": false
   },
   "outputs": [
    {
     "data": {
      "text/plain": [
       "input/file1 MapPartitionsRDD[1] at textFile at NativeMethodAccessorImpl.java:-2"
      ]
     },
     "execution_count": 1,
     "metadata": {},
     "output_type": "execute_result"
    }
   ],
   "source": [
    "lines = sc.textFile(\"input/file1\")\n",
    "lines"
   ]
  },
  {
   "cell_type": "code",
   "execution_count": 7,
   "metadata": {
    "collapsed": false
   },
   "outputs": [
    {
     "data": {
      "text/plain": [
       "[u'Hello World Bye World']"
      ]
     },
     "execution_count": 7,
     "metadata": {},
     "output_type": "execute_result"
    }
   ],
   "source": [
    "lines.collect()"
   ]
  },
  {
   "cell_type": "code",
   "execution_count": 8,
   "metadata": {
    "collapsed": false
   },
   "outputs": [
    {
     "data": {
      "text/plain": [
       "4"
      ]
     },
     "execution_count": 8,
     "metadata": {},
     "output_type": "execute_result"
    }
   ],
   "source": [
    "words = lines.flatMap(lambda l: l.split(\" \"))\n",
    "words.count()"
   ]
  },
  {
   "cell_type": "markdown",
   "metadata": {},
   "source": [
    "## Problem 1"
   ]
  },
  {
   "cell_type": "code",
   "execution_count": 14,
   "metadata": {
    "collapsed": false
   },
   "outputs": [
    {
     "name": "stdout",
     "output_type": "stream",
     "text": [
      "Bye : 1\n",
      "Goodbye : 1\n",
      "Hadoop : 2\n",
      "Hello : 2\n",
      "World : 2\n"
     ]
    }
   ],
   "source": [
    "lines = sc.textFile('input')\n",
    "record = lines.flatMap(lambda l: l.split(\" \"))\\\n",
    "              .map(lambda a: (a, 1))\\\n",
    "              .reduceByKey(lambda x,y:x+y)\\\n",
    "              .map(lambda x:(x[0],x[1]))\\\n",
    "              .sortByKey(True)\n",
    "ans = record.take(record.count())\n",
    "for a in ans:print a[0] + ' : ' + str(a[1])"
   ]
  },
  {
   "cell_type": "markdown",
   "metadata": {},
   "source": [
    "## Problem 2"
   ]
  },
  {
   "cell_type": "code",
   "execution_count": 15,
   "metadata": {
    "collapsed": false
   },
   "outputs": [
    {
     "name": "stdout",
     "output_type": "stream",
     "text": [
      "1. What is the average price of the products that were purchased via Mastercard?\n",
      "275.067731742\n",
      "2. Which date recorded the highest total sales?\n",
      "2012-03-17\n",
      "3. What is the minimum value of a product under the Computers category?\n",
      "0.38\n",
      "4. How many distinct categories of products are there?\n",
      "18\n",
      "5. Which store location had the lowest total sales?\n",
      "Plano\n"
     ]
    }
   ],
   "source": [
    "from pyspark.sql.types import *\n",
    "\n",
    "sqlContext = SQLContext(sc)\n",
    "\n",
    "lines = sc.textFile(\"hive/purchases.txt\")\n",
    "record = lines.map(lambda l: l.split(\",\"))\n",
    "\n",
    "purchases = record.map(lambda p: (p[0].split(\" \")[0], p[1], p[2], float(p[3]), p[4]))\n",
    "\n",
    "fields = [StructField(\"timestamp\", StringType(), True), \\\n",
    "          StructField(\"location\", StringType(), True), \\\n",
    "          StructField(\"category\", StringType(), True), \\\n",
    "          StructField(\"price\", FloatType(), True), \\\n",
    "          StructField(\"card\", StringType(), True), \\\n",
    "         ]\n",
    "\n",
    "purchasesSchema = StructType(fields)\n",
    "purchasesDataFrame = sqlContext.createDataFrame(purchases, purchasesSchema)\n",
    "purchasesTable = purchasesDataFrame.registerTempTable(\"purchases\")\n",
    "\n",
    "query = \"select avg(price) as ans from purchases where card = \\\"MasterCard\\\" \"\n",
    "result = sqlContext.sql(query)\n",
    "ans = result.map(lambda a: str(a.ans))\n",
    "print \"1. What is the average price of the products that were purchased via Mastercard?\"\n",
    "print float(ans.collect()[0])\n",
    "\n",
    "query = \"select timestamp as DATE, sum(price) as SALE from purchases group by timestamp order by SALE DESC LIMIT 1\"\n",
    "result = sqlContext.sql(query)\n",
    "ans = result.map(lambda a: str(a.DATE))\n",
    "print \"2. Which date recorded the highest total sales?\"\n",
    "print ans.collect()[0]\n",
    "\n",
    "query = \"select min(price) as ans from purchases where category = \\\"Computers\\\" \"\n",
    "result = sqlContext.sql(query)\n",
    "ans = result.map(lambda a: a.ans)\n",
    "print \"3. What is the minimum value of a product under the Computers category?\"\n",
    "print round(float(ans.collect()[0]),2)\n",
    "\n",
    "query = \"select count(*) as ans from (select DISTINCT category from purchases) temp \"\n",
    "result = sqlContext.sql(query)\n",
    "ans = result.map(lambda a: str(a.ans))\n",
    "print \"4. How many distinct categories of products are there?\" \n",
    "print int(ans.collect()[0])\n",
    "\n",
    "query = \"select location as ans, sum(price) as SALE from purchases group by location order by SALE ASC LIMIT 1 \"\n",
    "result = sqlContext.sql(query)\n",
    "ans = result.map(lambda a: str(a.ans))\n",
    "print \"5. Which store location had the lowest total sales?\"\n",
    "print ans.collect()[0]"
   ]
  }
 ],
 "metadata": {
  "kernelspec": {
   "display_name": "Python 2",
   "language": "python",
   "name": "python2"
  },
  "language_info": {
   "codemirror_mode": {
    "name": "ipython",
    "version": 2
   },
   "file_extension": ".py",
   "mimetype": "text/x-python",
   "name": "python",
   "nbconvert_exporter": "python",
   "pygments_lexer": "ipython2",
   "version": "2.7.6"
  }
 },
 "nbformat": 4,
 "nbformat_minor": 1
}
